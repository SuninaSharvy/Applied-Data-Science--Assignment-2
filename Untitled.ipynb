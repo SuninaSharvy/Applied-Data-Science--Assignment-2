{
 "cells": [
  {
   "cell_type": "code",
   "execution_count": null,
   "id": "2edcc058",
   "metadata": {},
   "outputs": [],
   "source": []
  },
  {
   "cell_type": "code",
   "execution_count": null,
   "id": "fd226c4b",
   "metadata": {},
   "outputs": [],
   "source": []
  },
  {
   "cell_type": "code",
   "execution_count": null,
   "id": "9b4980b5",
   "metadata": {},
   "outputs": [],
   "source": []
  },
  {
   "cell_type": "code",
   "execution_count": null,
   "id": "f4b43d3d",
   "metadata": {},
   "outputs": [],
   "source": []
  },
  {
   "cell_type": "code",
   "execution_count": null,
   "id": "2d977365",
   "metadata": {},
   "outputs": [],
   "source": []
  },
  {
   "cell_type": "code",
   "execution_count": null,
   "id": "5c5af057",
   "metadata": {},
   "outputs": [],
   "source": [
    "#Ploting Time series using functions defined\n",
    "\n",
    "WB_Time_Series_Plt(country_data, 'Population', 'Year', 'Population', 'Year vs Population Time Series', 'green')\n",
    "\n",
    "WB_Time_Series_Plt(country_data, 'CO2', 'Carbon Emission', 'Years', 'Year vs CO2 Time Series', 'red')\n",
    "\n",
    "WB_Time_Series_Plt(country_data, 'Energy_Use', 'Energy Use', 'Years', 'Year vs Energy Use Time Series', 'blue')\n"
   ]
  },
  {
   "cell_type": "code",
   "execution_count": null,
   "id": "b804d1e7",
   "metadata": {},
   "outputs": [],
   "source": [
    "# Comparing median of all indicators between countries\n",
    "\n",
    "stat2 = stat_data.median()\n",
    "stat2 = pd.DataFrame(stat2, columns=['median'])\n",
    "\n",
    "# Statistics Data 2 Derived from Stat_data which is created initially\n",
    "\n",
    "stat2 = stat2.reset_index()\n",
    "stat2 = stat2.set_index(['Country Code'])\n",
    "\n",
    "# Using Group by with sort() & .apply function to modify the data to a plotting format\n",
    "\n",
    "response_stat2 = stat2.groupby('Indicator Code', group_keys=False).apply(sort)\n",
    "\n",
    "response_stat2 = response_stat2.set_index(['Indicator Code'], append = True)\n",
    "\n",
    "response_stat2 = response_stat2.reorder_levels(['Indicator Code', 'Country Code'], axis=0)"
   ]
  },
  {
   "cell_type": "code",
   "execution_count": null,
   "id": "627154fc",
   "metadata": {},
   "outputs": [],
   "source": [
    "# Plot median of all indicators among countries, using dataframe result Statistic data 2 created earlier above\n",
    "\n",
    "Bar_Plt_Multi(response_stat2)\n"
   ]
  },
  {
   "cell_type": "code",
   "execution_count": null,
   "id": "4cf943b9",
   "metadata": {},
   "outputs": [],
   "source": [
    "#Calling Histogram function defined before for the analysis\n",
    "\n",
    "histogram_plt(stat_data, \"USA\", \"Energy_Use\", \"Energy Use\", \"USA Histogram\", 'b')\n",
    "histogram_plt(stat_data, \"ARE\", \"Energy_Use\", \"Energy Use\", \"UAE Histogram\", 'r')\n",
    "histogram_plt(stat_data, \"IND\", \"Energy_Use\", \"Energy Use\", \"India Histogram\", 'g')\n",
    "histogram_plt(stat_data,\"CHN\", \"Energy_Use\", \"Energy Use\", \"China Histogram\", 'y')"
   ]
  },
  {
   "cell_type": "code",
   "execution_count": null,
   "id": "052fb6eb",
   "metadata": {},
   "outputs": [],
   "source": []
  },
  {
   "cell_type": "code",
   "execution_count": null,
   "id": "1d0322a3",
   "metadata": {},
   "outputs": [],
   "source": []
  },
  {
   "cell_type": "code",
   "execution_count": null,
   "id": "a5f64476",
   "metadata": {},
   "outputs": [],
   "source": []
  },
  {
   "cell_type": "code",
   "execution_count": null,
   "id": "26996da2",
   "metadata": {},
   "outputs": [],
   "source": []
  }
 ],
 "metadata": {
  "kernelspec": {
   "display_name": "Python 3 (ipykernel)",
   "language": "python",
   "name": "python3"
  },
  "language_info": {
   "codemirror_mode": {
    "name": "ipython",
    "version": 3
   },
   "file_extension": ".py",
   "mimetype": "text/x-python",
   "name": "python",
   "nbconvert_exporter": "python",
   "pygments_lexer": "ipython3",
   "version": "3.9.7"
  }
 },
 "nbformat": 4,
 "nbformat_minor": 5
}
