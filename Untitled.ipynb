{
 "cells": [
  {
   "cell_type": "code",
   "execution_count": null,
   "id": "11947f9c",
   "metadata": {},
   "outputs": [],
   "source": [
    "# Taking individual Indicator data using Single World Bank Data extraction function defined\n",
    "\n",
    "country_pop = World_Bank_Single_Reader(Population, country_codes, start_year, end_year)  #Taking Population Data\n",
    "\n",
    "country_pol = World_Bank_Single_Reader(CO2, country_codes, start_year, end_year)  #Taking Pollution data from environment\n",
    "\n",
    "country_land = World_Bank_Single_Reader(Land, country_codes, start_year, end_year)  #Taking land data from environment\n"
   ]
  },
  {
   "cell_type": "code",
   "execution_count": null,
   "id": "d1882fb9",
   "metadata": {},
   "outputs": [],
   "source": [
    "# Reseting the index & finding the Mean of selected countries separately\n",
    "\n",
    "pop = pd.DataFrame(country_pop.loc[:,['CHN','IND']].mean()).reset_index()\n",
    "\n",
    "pol = pd.DataFrame(country_pol.loc[:,['CHN','IND']].mean()).reset_index()\n",
    "\n",
    "land = pd.DataFrame(country_land.loc[:,['CHN','IND']].mean()).reset_index()"
   ]
  },
  {
   "cell_type": "code",
   "execution_count": null,
   "id": "cfa97638",
   "metadata": {},
   "outputs": [],
   "source": [
    "# Renaming the columns\n",
    "pop.columns = ['Country', 'Population']\n",
    "\n",
    "pol.columns = ['Country', 'Pollution']\n",
    "\n",
    "land.columns = ['Country', 'Land']"
   ]
  },
  {
   "cell_type": "code",
   "execution_count": null,
   "id": "537da48b",
   "metadata": {},
   "outputs": [],
   "source": [
    "# Creating the Statistics data for the Statistic analysis part 1\n",
    "\n",
    "pop[\"Pollution\"] = pol['Pollution']\n",
    "\n",
    "pop[\"Land\"] = land['Land']\n",
    "\n",
    "stat1 = pop\n",
    "stat1"
   ]
  },
  {
   "cell_type": "code",
   "execution_count": null,
   "id": "d0d02549",
   "metadata": {},
   "outputs": [],
   "source": [
    "# Calling the logarthmic bar plot function defined for plotting 3 indicators. \n",
    "#Used lograthmic scale becuase of differnt weightage\n",
    "\n",
    "bar_plt_log (stat1, \"Country\", \"Pollution\", \"Land\", \"Population\")\n"
   ]
  },
  {
   "cell_type": "code",
   "execution_count": null,
   "id": "f1b92d15",
   "metadata": {},
   "outputs": [],
   "source": [
    "#Ploting Time series using functions defined\n",
    "\n",
    "WB_Time_Series_Plt(country_data, 'Population', 'Year', 'Population', 'Year vs Population Time Series', 'green')\n",
    "\n",
    "WB_Time_Series_Plt(country_data, 'CO2', 'Carbon Emission', 'Years', 'Year vs CO2 Time Series', 'red')\n",
    "\n",
    "WB_Time_Series_Plt(country_data, 'Energy_Use', 'Energy Use', 'Years', 'Year vs Energy Use Time Series', 'blue')\n"
   ]
  },
  {
   "cell_type": "code",
   "execution_count": null,
   "id": "647fcddc",
   "metadata": {},
   "outputs": [],
   "source": [
    "# Comparing median of all indicators between countries\n",
    "\n",
    "stat2 = stat_data.median()\n",
    "stat2 = pd.DataFrame(stat2, columns=['median'])\n",
    "\n",
    "# Statistics Data 2 Derived from Stat_data which is created initially\n",
    "\n",
    "stat2 = stat2.reset_index()\n",
    "stat2 = stat2.set_index(['Country Code'])\n",
    "\n",
    "# Using Group by with sort() & .apply function to modify the data to a plotting format\n",
    "\n",
    "response_stat2 = stat2.groupby('Indicator Code', group_keys=False).apply(sort)\n",
    "\n",
    "response_stat2 = response_stat2.set_index(['Indicator Code'], append = True)\n",
    "\n",
    "response_stat2 = response_stat2.reorder_levels(['Indicator Code', 'Country Code'], axis=0)"
   ]
  },
  {
   "cell_type": "code",
   "execution_count": null,
   "id": "10fb2711",
   "metadata": {},
   "outputs": [],
   "source": [
    "# Plot median of all indicators among countries, using dataframe result Statistic data 2 created earlier above\n",
    "\n",
    "Bar_Plt_Multi(response_stat2)\n"
   ]
  },
  {
   "cell_type": "code",
   "execution_count": null,
   "id": "61029d71",
   "metadata": {},
   "outputs": [],
   "source": [
    "#Calling Histogram function defined before for the analysis\n",
    "\n",
    "histogram_plt(stat_data, \"USA\", \"Energy_Use\", \"Energy Use\", \"USA Histogram\", 'b')\n",
    "histogram_plt(stat_data, \"ARE\", \"Energy_Use\", \"Energy Use\", \"UAE Histogram\", 'r')\n",
    "histogram_plt(stat_data, \"IND\", \"Energy_Use\", \"Energy Use\", \"India Histogram\", 'g')\n",
    "histogram_plt(stat_data,\"CHN\", \"Energy_Use\", \"Energy Use\", \"China Histogram\", 'y')"
   ]
  },
  {
   "cell_type": "code",
   "execution_count": null,
   "id": "73527ecd",
   "metadata": {},
   "outputs": [],
   "source": []
  },
  {
   "cell_type": "code",
   "execution_count": null,
   "id": "0d7d7947",
   "metadata": {},
   "outputs": [],
   "source": []
  },
  {
   "cell_type": "code",
   "execution_count": null,
   "id": "3609b66c",
   "metadata": {},
   "outputs": [],
   "source": []
  },
  {
   "cell_type": "code",
   "execution_count": null,
   "id": "73b33dcc",
   "metadata": {},
   "outputs": [],
   "source": []
  }
 ],
 "metadata": {
  "kernelspec": {
   "display_name": "Python 3 (ipykernel)",
   "language": "python",
   "name": "python3"
  },
  "language_info": {
   "codemirror_mode": {
    "name": "ipython",
    "version": 3
   },
   "file_extension": ".py",
   "mimetype": "text/x-python",
   "name": "python",
   "nbconvert_exporter": "python",
   "pygments_lexer": "ipython3",
   "version": "3.9.7"
  }
 },
 "nbformat": 4,
 "nbformat_minor": 5
}
